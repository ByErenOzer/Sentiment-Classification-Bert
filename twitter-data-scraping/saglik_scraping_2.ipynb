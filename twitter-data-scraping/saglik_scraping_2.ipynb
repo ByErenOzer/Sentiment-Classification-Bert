{
 "cells": [
  {
   "cell_type": "code",
   "execution_count": 1,
   "metadata": {},
   "outputs": [
    {
     "name": "stdout",
     "output_type": "stream",
     "text": [
      "Tarih: 2024-09-01 - Tweet Sayısı: 29\n",
      "Tarih: 2024-09-02 - Tweet Sayısı: 14\n",
      "Tarih: 2024-09-03 - Tweet Sayısı: 21\n",
      "Tarih: 2024-09-04 - Tweet Sayısı: 22\n",
      "Tarih: 2024-09-05 - Tweet Sayısı: 40\n",
      "Tarih: 2024-09-06 - Tweet Sayısı: 44\n",
      "Tarih: 2024-09-07 - Tweet Sayısı: 34\n",
      "Tarih: 2024-09-08 - Tweet Sayısı: 39\n",
      "Tarih: 2024-09-09 - Tweet Sayısı: 62\n",
      "Tarih: 2024-09-10 - Tweet Sayısı: 70\n",
      "Tarih: 2024-09-11 - Tweet Sayısı: 39\n",
      "Tarih: 2024-09-12 - Tweet Sayısı: 54\n",
      "Tarih: 2024-09-13 - Tweet Sayısı: 19\n",
      "Tarih: 2024-09-14 - Tweet Sayısı: 41\n",
      "Tarih: 2024-09-15 - Tweet Sayısı: 23\n",
      "Tarih: 2024-09-16 - Tweet Sayısı: 38\n",
      "Tarih: 2024-09-17 - Tweet Sayısı: 43\n",
      "Tarih: 2024-09-18 - Tweet Sayısı: 56\n",
      "Tarih: 2024-09-19 - Tweet Sayısı: 39\n",
      "Tarih: 2024-09-20 - Tweet Sayısı: 30\n",
      "Tarih: 2024-09-21 - Tweet Sayısı: 21\n",
      "Tarih: 2024-09-22 - Tweet Sayısı: 43\n",
      "Tarih: 2024-09-23 - Tweet Sayısı: 42\n",
      "Tarih: 2024-09-24 - Tweet Sayısı: 35\n",
      "Tarih: 2024-09-25 - Tweet Sayısı: 74\n",
      "Tarih: 2024-09-26 - Tweet Sayısı: 39\n",
      "Tarih: 2024-09-27 - Tweet Sayısı: 37\n",
      "Tarih: 2024-09-28 - Tweet Sayısı: 120\n",
      "Tarih: 2024-09-29 - Tweet Sayısı: 43\n",
      "Tarih: 2024-09-30 - Tweet Sayısı: 46\n",
      "Tarih: 2024-10-01 - Tweet Sayısı: 30\n",
      "Tarih: 2024-10-02 - Tweet Sayısı: 65\n",
      "Tarih: 2024-10-03 - Tweet Sayısı: 63\n",
      "Tarih: 2024-10-04 - Tweet Sayısı: 76\n",
      "Tarih: 2024-10-05 - Tweet Sayısı: 106\n"
     ]
    }
   ],
   "source": [
    "from datetime import datetime, timedelta\n",
    "import subprocess\n",
    "import pandas as pd\n",
    "import os\n",
    "\n",
    "# Başlangıç ve bitiş tarihlerini ayarla\n",
    "baslangic_tarihi = datetime.strptime(\"2024-09-01\", \"%Y-%m-%d\")\n",
    "bitis_tarihi = datetime.strptime(\"2025-01-01\", \"%Y-%m-%d\")\n",
    "\n",
    "# Her gün için bir döngü başlat\n",
    "current_date = baslangic_tarihi\n",
    "while current_date <= bitis_tarihi:\n",
    "    # Dosya adını ve tarih aralığını belirle\n",
    "    dosya_adi = f\"saglik_{current_date.strftime('%Y-%m-%d')}.csv\"\n",
    "    tarih_araligi = f\"since:{current_date.strftime('%Y-%m-%d')} until:{(current_date + timedelta(days=1)).strftime('%Y-%m-%d')}\"\n",
    "\n",
    "    # tweet-harvest komutunu oluştur\n",
    "    komut = (\n",
    "        f\"npx --yes tweet-harvest@2.6.1 \"\n",
    "        f\"-o \\\"{dosya_adi}\\\" \"\n",
    "        f\"-s \\\"to:@saglikbakanligi {tarih_araligi}\\\" \"\n",
    "        f\"-l 500 \"\n",
    "        f\"--token \\\"99be5a7df62707ce8059186d6c1efa0c9688ee5d\\\"\"\n",
    "    )\n",
    "\n",
    "    # Komutu çalıştır\n",
    "    subprocess.run(komut, shell=True)\n",
    "\n",
    "    # Yüklenen veri setini kontrol et\n",
    "    try:\n",
    "        df = pd.read_csv(\"C:/Users/doganeren.ozer/Desktop/twitter scraping/1-ornek/tweets-data/\" + dosya_adi)\n",
    "        print(f\"Tarih: {current_date.strftime('%Y-%m-%d')} - Tweet Sayısı: {df.shape[0]}\")\n",
    "    except Exception as e:\n",
    "        print(f\"Hata oluştu - {current_date.strftime('%Y-%m-%d')}: {e}\")\n",
    "        \n",
    "    # Bir sonraki güne geç (kontrol ettikten sonra artırıyoruz)\n",
    "    current_date += timedelta(days=1)"
   ]
  },
  {
   "cell_type": "code",
   "execution_count": null,
   "metadata": {},
   "outputs": [],
   "source": []
  }
 ],
 "metadata": {
  "kernelspec": {
   "display_name": "myenv",
   "language": "python",
   "name": "python3"
  },
  "language_info": {
   "codemirror_mode": {
    "name": "ipython",
    "version": 3
   },
   "file_extension": ".py",
   "mimetype": "text/x-python",
   "name": "python",
   "nbconvert_exporter": "python",
   "pygments_lexer": "ipython3",
   "version": "3.11.0"
  }
 },
 "nbformat": 4,
 "nbformat_minor": 2
}
