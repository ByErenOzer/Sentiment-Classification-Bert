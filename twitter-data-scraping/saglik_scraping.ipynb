{
 "cells": [
  {
   "cell_type": "code",
   "execution_count": 1,
   "metadata": {},
   "outputs": [
    {
     "name": "stdout",
     "output_type": "stream",
     "text": [
      "Tarih: 2025-03-23 - Tweet Sayısı: 31\n"
     ]
    }
   ],
   "source": [
    "from datetime import datetime, timedelta\n",
    "import subprocess\n",
    "import pandas as pd\n",
    "import os\n",
    "\n",
    "# Başlangıç ve bitiş tarihlerini ayarla\n",
    "baslangic_tarihi = datetime.strptime(\"2025-03-23\", \"%Y-%m-%d\")\n",
    "bitis_tarihi = datetime.strptime(\"2025-03-23\", \"%Y-%m-%d\")\n",
    "\n",
    "# Her gün için bir döngü başlat\n",
    "current_date = baslangic_tarihi\n",
    "while current_date <= bitis_tarihi:\n",
    "    # Dosya adını ve tarih aralığını belirle\n",
    "    dosya_adi = f\"saglik_{current_date.strftime('%Y-%m-%d')}.csv\"\n",
    "    tarih_araligi = f\"since:{current_date.strftime('%Y-%m-%d')} until:{(current_date + timedelta(days=1)).strftime('%Y-%m-%d')}\"\n",
    "\n",
    "    # tweet-harvest komutunu oluştur\n",
    "    komut = (\n",
    "        f\"npx --yes tweet-harvest@latest \"  # npx --yes tweet-harvest@2.6.1 \n",
    "        f\"-o \\\"{dosya_adi}\\\" \"\n",
    "        f\"-s \\\"to:@saglikbakanligi {tarih_araligi}\\\" \"\n",
    "        f\"-l 5000 \"\n",
    "         f\"--tab \\\"LATEST\\\" \"  # LATEST parametresi eklendi\n",
    "        f\"--token \\\"99be5a7df62707ce8059186d6c1efa0c9688ee5d\\\"\"\n",
    "    )\n",
    "\n",
    "    # Komutu çalıştır\n",
    "    subprocess.run(komut, shell=True)\n",
    "\n",
    "    # Yüklenen veri setini kontrol et\n",
    "    try:\n",
    "        df = pd.read_csv(\"C:/Users/doganeren.ozer/Desktop/twitter scraping/1-ornek/tweets-data/\" + dosya_adi)\n",
    "        print(f\"Tarih: {current_date.strftime('%Y-%m-%d')} - Tweet Sayısı: {df.shape[0]}\")\n",
    "    except Exception as e:\n",
    "        print(f\"Hata oluştu - {current_date.strftime('%Y-%m-%d')}: {e}\")\n",
    "        \n",
    "    # Bir sonraki güne geç (kontrol ettikten sonra artırıyoruz)\n",
    "    current_date += timedelta(days=1)"
   ]
  },
  {
   "cell_type": "code",
   "execution_count": null,
   "metadata": {},
   "outputs": [],
   "source": []
  }
 ],
 "metadata": {
  "kernelspec": {
   "display_name": "myenv",
   "language": "python",
   "name": "python3"
  },
  "language_info": {
   "codemirror_mode": {
    "name": "ipython",
    "version": 3
   },
   "file_extension": ".py",
   "mimetype": "text/x-python",
   "name": "python",
   "nbconvert_exporter": "python",
   "pygments_lexer": "ipython3",
   "version": "3.11.0"
  }
 },
 "nbformat": 4,
 "nbformat_minor": 2
}
