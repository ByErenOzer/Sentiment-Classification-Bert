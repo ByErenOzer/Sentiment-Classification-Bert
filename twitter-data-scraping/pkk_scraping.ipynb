{
 "cells": [
  {
   "cell_type": "code",
   "execution_count": 1,
   "metadata": {},
   "outputs": [
    {
     "name": "stdout",
     "output_type": "stream",
     "text": [
      "Tarih: 2021-01-07 - Tweet Sayısı: 47\n",
      "Tarih: 2021-01-08 - Tweet Sayısı: 46\n",
      "Tarih: 2021-01-09 - Tweet Sayısı: 51\n",
      "Tarih: 2021-01-10 - Tweet Sayısı: 47\n",
      "Tarih: 2021-01-11 - Tweet Sayısı: 23\n",
      "Tarih: 2021-01-12 - Tweet Sayısı: 53\n",
      "Tarih: 2021-01-13 - Tweet Sayısı: 27\n",
      "Tarih: 2021-01-14 - Tweet Sayısı: 38\n",
      "Tarih: 2021-01-15 - Tweet Sayısı: 51\n",
      "Tarih: 2021-01-16 - Tweet Sayısı: 57\n",
      "Tarih: 2021-01-17 - Tweet Sayısı: 38\n",
      "Tarih: 2021-01-18 - Tweet Sayısı: 36\n",
      "Tarih: 2021-01-19 - Tweet Sayısı: 14\n",
      "Tarih: 2021-01-20 - Tweet Sayısı: 51\n",
      "Tarih: 2021-01-21 - Tweet Sayısı: 43\n",
      "Tarih: 2021-01-22 - Tweet Sayısı: 47\n",
      "Tarih: 2021-01-23 - Tweet Sayısı: 51\n",
      "Tarih: 2021-01-24 - Tweet Sayısı: 85\n",
      "Tarih: 2021-01-25 - Tweet Sayısı: 35\n",
      "Tarih: 2021-01-26 - Tweet Sayısı: 49\n",
      "Tarih: 2021-01-27 - Tweet Sayısı: 56\n",
      "Tarih: 2021-01-28 - Tweet Sayısı: 51\n",
      "Tarih: 2021-01-29 - Tweet Sayısı: 48\n",
      "Tarih: 2021-01-30 - Tweet Sayısı: 34\n",
      "Tarih: 2021-01-31 - Tweet Sayısı: 73\n",
      "Tarih: 2021-02-01 - Tweet Sayısı: 9\n",
      "Tarih: 2021-02-02 - Tweet Sayısı: 65\n",
      "Tarih: 2021-02-03 - Tweet Sayısı: 53\n",
      "Tarih: 2021-02-04 - Tweet Sayısı: 51\n",
      "Tarih: 2021-02-05 - Tweet Sayısı: 48\n",
      "Tarih: 2021-02-06 - Tweet Sayısı: 39\n",
      "Tarih: 2021-02-07 - Tweet Sayısı: 27\n",
      "Tarih: 2021-02-08 - Tweet Sayısı: 48\n"
     ]
    }
   ],
   "source": [
    "from datetime import datetime, timedelta\n",
    "import subprocess\n",
    "import pandas as pd\n",
    "import os\n",
    "\n",
    "# Başlangıç ve bitiş tarihlerini ayarla\n",
    "baslangic_tarihi = datetime.strptime(\"2021-01-07\", \"%Y-%m-%d\")\n",
    "bitis_tarihi = datetime.strptime(\"2022-01-01\", \"%Y-%m-%d\")\n",
    "\n",
    "# Her gün için bir döngü başlat\n",
    "current_date = baslangic_tarihi\n",
    "while current_date <= bitis_tarihi:\n",
    "    # Dosya adını ve tarih aralığını belirle\n",
    "    dosya_adi = f\"pkk_tweets_{current_date.strftime('%Y-%m-%d')}.csv\"\n",
    "    tarih_araligi = f\"since:{current_date.strftime('%Y-%m-%d')} until:{(current_date + timedelta(days=1)).strftime('%Y-%m-%d')}\"\n",
    "\n",
    "    # Arama sorgusunu oluştur - sadece #pkk hashtag'i\n",
    "    search_query = f\"#pkk {tarih_araligi} \"\n",
    "\n",
    "    # tweet-harvest komutunu oluştur\n",
    "    komut = (\n",
    "        f\"npx --yes tweet-harvest@2.6.1 \"\n",
    "        f\"-o \\\"{dosya_adi}\\\" \"\n",
    "        f\"-s \\\"{search_query}\\\" \"\n",
    "        f\"-l 2000 \"\n",
    "        f\"--tab \\\"LATEST\\\" \"  # LATEST parametresi eklendi\n",
    "        f\"--token \\\"86743172e8a256c57d13bccfacc530069151d4cd\\\"\"  #harvest1\n",
    "    )\n",
    "\n",
    "    # Komutu çalıştır\n",
    "    subprocess.run(komut, shell=True)\n",
    "\n",
    "    # Yüklenen veri setini kontrol et\n",
    "    try:\n",
    "        df = pd.read_csv(\"C:/Users/doganeren.ozer/Desktop/twitter scraping/2-#pkk/tweets-data/\" + dosya_adi)\n",
    "        print(f\"Tarih: {current_date.strftime('%Y-%m-%d')} - Tweet Sayısı: {df.shape[0]}\")\n",
    "    except Exception as e:\n",
    "        print(f\"Hata oluştu - {current_date.strftime('%Y-%m-%d')}: {e}\")\n",
    "        \n",
    "    # Bir sonraki güne geç\n",
    "    current_date += timedelta(days=1)"
   ]
  },
  {
   "cell_type": "code",
   "execution_count": null,
   "metadata": {},
   "outputs": [],
   "source": []
  }
 ],
 "metadata": {
  "kernelspec": {
   "display_name": "myenv",
   "language": "python",
   "name": "python3"
  },
  "language_info": {
   "codemirror_mode": {
    "name": "ipython",
    "version": 3
   },
   "file_extension": ".py",
   "mimetype": "text/x-python",
   "name": "python",
   "nbconvert_exporter": "python",
   "pygments_lexer": "ipython3",
   "version": "3.11.0"
  }
 },
 "nbformat": 4,
 "nbformat_minor": 2
}
